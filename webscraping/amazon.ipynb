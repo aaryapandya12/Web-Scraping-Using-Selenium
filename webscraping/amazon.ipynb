{
 "cells": [
  {
   "cell_type": "code",
   "execution_count": null,
   "metadata": {},
   "outputs": [],
   "source": [
    "import numpy as np\n",
    "from selenium import webdriver\n",
    "import pandas as pd\n",
    "from bs4 import BeautifulSoup"
   ]
  },
  {
   "cell_type": "code",
   "execution_count": 2,
   "metadata": {},
   "outputs": [],
   "source": [
    "name=[]\n",
    "badge=[]\n",
    "price=[]\n",
    "image=[]"
   ]
  },
  {
   "cell_type": "code",
   "execution_count": 3,
   "metadata": {},
   "outputs": [],
   "source": [
    "def collectDataFromAmazon(start,end):\n",
    "        for i in range(start,end):\n",
    "                amazonUrl=\"https://www.amazon.in/s?k=laptops&crid=2KEBSJAOWPOHZ&qid=1702964761&sprefix=laptops%2Caps%2C203&ref=sr_pg_{}\".format(i)\n",
    "                driver=webdriver.Edge()\n",
    "                driver.get(amazonUrl)\n",
    "                driver.implicitly_wait(10)\n",
    "                html_content=driver.page_source\n",
    "                driver.quit()\n",
    "                soup=BeautifulSoup(html_content,'html.parser')\n",
    "                laptopList=soup.find_all('div',class_='sg-col-inner')\n",
    "                #print(len(laptopList))\n",
    "                for i in laptopList:\n",
    "                        try:\n",
    "                                name.append(i.find('span',class_='a-size-medium a-color-base a-text-normal').text)\n",
    "                        except:\n",
    "                                name.append(np.nan)\n",
    "                        try:\n",
    "                                badge.append(i.find('span',class_='a-icon-alt').text)\n",
    "                        except:\n",
    "                                badge.append(np.nan)\n",
    "                        try:\n",
    "                                price.append(i.find('span',class_='a-price-whole').text)\n",
    "                        except:\n",
    "                                price.append(np.nan)\n",
    "                        try:\n",
    "                                image.append((i.find('img')).get('src'))\n",
    "                        except:\n",
    "                                image.append(np.nan)\n",
    "                      \n",
    "                        \n",
    "collectDataFromAmazon(1,25)\n",
    "d={\"Name\":name,\"Price\":price,\"Rating\":badge,\"Image\":image}\n",
    "df=pd.DataFrame(d)\n",
    "df\n",
    "\n",
    "df.to_csv('amazon2.csv')"
   ]
  },
  {
   "cell_type": "code",
   "execution_count": null,
   "metadata": {},
   "outputs": [],
   "source": []
  }
 ],
 "metadata": {
  "kernelspec": {
   "display_name": "base",
   "language": "python",
   "name": "python3"
  },
  "language_info": {
   "codemirror_mode": {
    "name": "ipython",
    "version": 3
   },
   "file_extension": ".py",
   "mimetype": "text/x-python",
   "name": "python",
   "nbconvert_exporter": "python",
   "pygments_lexer": "ipython3",
   "version": "3.11.5"
  }
 },
 "nbformat": 4,
 "nbformat_minor": 2
}
