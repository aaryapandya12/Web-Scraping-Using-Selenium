{
 "cells": [
  {
   "cell_type": "code",
   "execution_count": 1,
   "metadata": {},
   "outputs": [],
   "source": [
    "import numpy as np\n",
    "from selenium import webdriver\n",
    "import pandas as pd\n",
    "from bs4 import BeautifulSoup"
   ]
  },
  {
   "cell_type": "code",
   "execution_count": 2,
   "metadata": {},
   "outputs": [],
   "source": [
    "name=[]\n",
    "badge=[]\n",
    "price=[]\n",
    "image=[]\n",
    "description=[]"
   ]
  },
  {
   "cell_type": "code",
   "execution_count": 3,
   "metadata": {},
   "outputs": [],
   "source": [
    "def collectDataFromFlipkart(start,end):\n",
    "        for i in range(start,end):\n",
    "                flipkartUrl=\"https://www.flipkart.com/search?q=laptops&otracker=search&otracker1=search&marketplace=FLIPKART&as-show=on&as=off&page={}\".format(i)\n",
    "                driver=webdriver.Edge()\n",
    "                driver.get(flipkartUrl)\n",
    "                driver.implicitly_wait(10)\n",
    "                html_content=driver.page_source\n",
    "                driver.quit()\n",
    "                soup=BeautifulSoup(html_content,'html.parser')\n",
    "                laptopList=soup.find_all('div',class_='_2kHMtA')\n",
    "                #print(len(laptopList))\n",
    "                for i in laptopList:\n",
    "                        try:\n",
    "                                name.append(i.find('div',class_='_4rR01T').text)\n",
    "                        except:\n",
    "                                name.append(np.nan)\n",
    "                        try:\n",
    "                                badge.append(i.find('div',class_='_3LWZlK').text)\n",
    "                        except:\n",
    "                                badge.append(np.nan)\n",
    "                        try:\n",
    "                                price.append(i.find('div',class_='_30jeq3 _1_WHN1').text)\n",
    "                        except:\n",
    "                                price.append(np.nan)\n",
    "                        try:\n",
    "                                image.append((i.find('img')).get('src'))\n",
    "                        except:\n",
    "                                image.append(np.nan)\n",
    "                        try:\n",
    "                                description.append(i.find('li',class_='rgWa7D'))\n",
    "                        except:\n",
    "                                description.append(np.nan)\n",
    "                        \n",
    "collectDataFromFlipkart(1,30)\n",
    "d={\"Name\":name,\"Price\":price,\"Rating\":badge,\"Image\":image, }\n",
    "df=pd.DataFrame(d)\n",
    "df\n",
    "\n",
    "df.to_csv('flipkart3.csv')"
   ]
  },
  {
   "cell_type": "code",
   "execution_count": null,
   "metadata": {},
   "outputs": [],
   "source": []
  }
 ],
 "metadata": {
  "kernelspec": {
   "display_name": "base",
   "language": "python",
   "name": "python3"
  },
  "language_info": {
   "codemirror_mode": {
    "name": "ipython",
    "version": 3
   },
   "file_extension": ".py",
   "mimetype": "text/x-python",
   "name": "python",
   "nbconvert_exporter": "python",
   "pygments_lexer": "ipython3",
   "version": "3.11.5"
  }
 },
 "nbformat": 4,
 "nbformat_minor": 2
}
