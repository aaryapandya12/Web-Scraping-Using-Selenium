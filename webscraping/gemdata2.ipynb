{
 "cells": [
  {
   "cell_type": "code",
   "execution_count": 1,
   "metadata": {},
   "outputs": [],
   "source": [
    "import numpy as np\n",
    "from selenium import webdriver\n",
    "import pandas as pd\n",
    "from bs4 import BeautifulSoup\n"
   ]
  },
  {
   "cell_type": "code",
   "execution_count": 2,
   "metadata": {},
   "outputs": [],
   "source": [
    "name = []\n",
    "badge = []\n",
    "price = []\n",
    "image = []"
   ]
  },
  {
   "cell_type": "code",
   "execution_count": 5,
   "metadata": {},
   "outputs": [],
   "source": [
    "def collectDataFromGem(start,end):\n",
    "    for i in range(start,end):\n",
    "        gemUrl = \"https://mkp.gem.gov.in/diaries-printed-plain--register-/search#/?page={}\".format(i)\n",
    "        driver = webdriver.Edge()\n",
    "        driver.get(gemUrl)\n",
    "        driver.implicitly_wait(10)\n",
    "        html_content = driver.page_source\n",
    "        driver.quit()\n",
    "        soup = BeautifulSoup(html_content,'html.parser')\n",
    "        diariesList = soup.find_all('div',class_ = 'variant-wrapper btn-add_to_cart rle-add_to_cart bre- product-init')\n",
    "        for i in diariesList:\n",
    "            try:\n",
    "                name.append(i.find('span',class_ = 'variant-title').text)\n",
    "            except:\n",
    "                name.append(np.nan)\n",
    "            try: \n",
    "                badge.append(i.find('span',class_ = 'badge').text)\n",
    "            except:\n",
    "                badge.append(np.nan)\n",
    "            try:\n",
    "                price.append(i.find('span',class_ = 'variant-final-price').text.split('\\n')[1])\n",
    "            except:\n",
    "                price.append(np.nan)\n",
    "            try:\n",
    "                image.append((i.find('img')).get('src'))\n",
    "            except:\n",
    "                image.append(np.nan)\n",
    "    \n",
    "collectDataFromGem(1,1130)\n",
    "d = {\"Name\": name,\"Price\":price,\"Badge\":badge,\"Image\":image}\n",
    "df = pd.DataFrame(d)\n",
    "df\n",
    "df.to_csv('gemdata3.csv')                \n"
   ]
  }
 ],
 "metadata": {
  "kernelspec": {
   "display_name": "base",
   "language": "python",
   "name": "python3"
  },
  "language_info": {
   "codemirror_mode": {
    "name": "ipython",
    "version": 3
   },
   "file_extension": ".py",
   "mimetype": "text/x-python",
   "name": "python",
   "nbconvert_exporter": "python",
   "pygments_lexer": "ipython3",
   "version": "3.11.5"
  }
 },
 "nbformat": 4,
 "nbformat_minor": 2
}
